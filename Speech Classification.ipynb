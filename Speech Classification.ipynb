{
 "cells": [
  {
   "cell_type": "code",
   "execution_count": 1,
   "metadata": {},
   "outputs": [
    {
     "name": "stderr",
     "output_type": "stream",
     "text": [
      "Using TensorFlow backend.\n"
     ]
    },
    {
     "ename": "RuntimeError",
     "evalue": "module compiled against API version 0xc but this version of numpy is 0xa",
     "output_type": "error",
     "traceback": [
      "\u001b[0;31m---------------------------------------------------------------------------\u001b[0m",
      "\u001b[0;31mRuntimeError\u001b[0m                              Traceback (most recent call last)",
      "\u001b[0;31mRuntimeError\u001b[0m: module compiled against API version 0xc but this version of numpy is 0xa"
     ]
    },
    {
     "ename": "RuntimeError",
     "evalue": "module compiled against API version 0xc but this version of numpy is 0xa",
     "output_type": "error",
     "traceback": [
      "\u001b[0;31m---------------------------------------------------------------------------\u001b[0m",
      "\u001b[0;31mRuntimeError\u001b[0m                              Traceback (most recent call last)",
      "\u001b[0;31mRuntimeError\u001b[0m: module compiled against API version 0xc but this version of numpy is 0xa"
     ]
    }
   ],
   "source": [
    "%matplotlib inline\n",
    "import matplotlib.pyplot as plt\n",
    "import os\n",
    "from scipy.io import wavfile\n",
    "from collections import defaultdict, Counter\n",
    "from scipy import signal\n",
    "import numpy as np\n",
    "import librosa\n",
    "import random as rn\n",
    "from keras.layers import Dense\n",
    "from keras import Input\n",
    "from keras.engine import Model\n",
    "from keras.utils import to_categorical\n",
    "from keras.layers import Dense, TimeDistributed, Dropout, Bidirectional, GRU, BatchNormalization, Activation, LeakyReLU, \\\n",
    "    LSTM, Flatten, RepeatVector, Permute, Multiply, Conv2D, MaxPooling2D"
   ]
  },
  {
   "cell_type": "code",
   "execution_count": 2,
   "metadata": {
    "collapsed": true
   },
   "outputs": [],
   "source": [
    "DATA_DIR = '/Users/dima/Projects/free-spoken-digit-dataset/recordings/'"
   ]
  },
  {
   "cell_type": "code",
   "execution_count": 55,
   "metadata": {
    "collapsed": true
   },
   "outputs": [],
   "source": [
    "random_file = rn.choice(os.listdir(DATA_DIR))"
   ]
  },
  {
   "cell_type": "code",
   "execution_count": 56,
   "metadata": {},
   "outputs": [
    {
     "name": "stdout",
     "output_type": "stream",
     "text": [
      "sr: 22050\n",
      "wav shape: (10849,)\n",
      "length: 0.49201814059 secs\n"
     ]
    }
   ],
   "source": [
    "wav, sr = librosa.load(DATA_DIR + random_file)\n",
    "print 'sr:', sr\n",
    "print 'wav shape:', wav.shape\n",
    "print 'length:', wav.shape[0]/float(sr), 'secs'"
   ]
  },
  {
   "cell_type": "code",
   "execution_count": 5,
   "metadata": {},
   "outputs": [
    {
     "name": "stdout",
     "output_type": "stream",
     "text": [
      "sr: 8000\n",
      "wav shape: (1700,)\n",
      "length: 0.2125 secs\n"
     ]
    }
   ],
   "source": [
    "wav, sr = librosa.load(DATA_DIR + random_file, sr=None)\n",
    "print 'sr:', sr\n",
    "print 'wav shape:', wav.shape\n",
    "print 'length:', wav.shape[0]/float(sr), 'secs'"
   ]
  },
  {
   "cell_type": "code",
   "execution_count": 6,
   "metadata": {},
   "outputs": [
    {
     "data": {
      "text/plain": [
       "[<matplotlib.lines.Line2D at 0x12325de10>]"
      ]
     },
     "execution_count": 6,
     "metadata": {},
     "output_type": "execute_result"
    },
    {
     "data": {
      "image/png": "[encoded data removed]",
      "text/plain": [
       "<matplotlib.figure.Figure at 0x10d8ab250>"
      ]
     },
     "metadata": {},
     "output_type": "display_data"
    }
   ],
   "source": [
    "plt.plot(wav)"
   ]
  },
  {
   "cell_type": "code",
   "execution_count": 7,
   "metadata": {},
   "outputs": [
    {
     "name": "stdout",
     "output_type": "stream",
     "text": [
      "train_X: (1000, 30000)\n",
      "train_spectrograms: (1000, 1025, 40)\n",
      "train_mel_spectrograms: (1000, 128, 40)\n",
      "train_mfccs: (1000, 20, 40)\n",
      "train_y: (1000, 10)\n",
      "\n",
      "test_X: (500, 30000)\n",
      "test_spectrograms: (500, 1025, 40)\n",
      "test_mel_spectrograms: (500, 128, 40)\n",
      "test_mfccs: (500, 20, 40)\n",
      "test_y: (500, 10)\n"
     ]
    }
   ],
   "source": [
    "test_speaker = 'theo'\n",
    "train_X = []\n",
    "train_spectrograms = []\n",
    "train_mel_spectrograms = []\n",
    "train_mfccs = []\n",
    "train_y = []\n",
    "\n",
    "test_X = []\n",
    "test_spectrograms = []\n",
    "test_mel_spectrograms = []\n",
    "test_mfccs = []\n",
    "test_y = []\n",
    "\n",
    "pad1d = lambda a, i: a[0: i] if a.shape[0] > i else np.hstack((a, np.zeros(i - a.shape[0])))\n",
    "pad2d = lambda a, i: a[:, 0: i] if a.shape[1] > i else np.hstack((a, np.zeros((a.shape[0],i - a.shape[1]))))\n",
    "\n",
    "for fname in os.listdir(DATA_DIR):\n",
    "    try:\n",
    "        if '.wav' not in fname or 'dima' in fname:\n",
    "            continue\n",
    "        struct = fname.split('_')\n",
    "        digit = struct[0]\n",
    "        speaker = struct[1]\n",
    "        wav, sr = librosa.load(DATA_DIR + fname)\n",
    "        padded_x = pad1d(wav, 30000)\n",
    "        spectrogram = np.abs(librosa.stft(wav))\n",
    "        padded_spectogram = pad2d(spectrogram,40)\n",
    "\n",
    "        mel_spectrogram = librosa.feature.melspectrogram(wav)\n",
    "        padded_mel_spectrogram = pad2d(mel_spectrogram,40)\n",
    "\n",
    "        mfcc = librosa.feature.mfcc(wav)\n",
    "        padded_mfcc = pad2d(mfcc,40)\n",
    "\n",
    "        if speaker == test_speaker:\n",
    "            test_X.append(padded_x)\n",
    "            test_spectrograms.append(padded_spectogram)\n",
    "            test_mel_spectrograms.append(padded_mel_spectrogram)\n",
    "            test_mfccs.append(padded_mfcc)\n",
    "            test_y.append(digit)\n",
    "        else:\n",
    "            train_X.append(padded_x)\n",
    "            train_spectrograms.append(padded_spectogram)\n",
    "            train_mel_spectrograms.append(padded_mel_spectrogram)\n",
    "            train_mfccs.append(padded_mfcc)\n",
    "            train_y.append(digit)\n",
    "    except Exception as e:\n",
    "        print fname, e\n",
    "        raise\n",
    "\n",
    "train_X = np.vstack(train_X)\n",
    "train_spectrograms = np.array(train_spectrograms)\n",
    "train_mel_spectrograms = np.array(train_mel_spectrograms)\n",
    "train_mfccs = np.array(train_mfccs)\n",
    "train_y = to_categorical(np.array(train_y))\n",
    "\n",
    "test_X = np.vstack(test_X)\n",
    "test_spectrograms = np.array(test_spectrograms)\n",
    "test_mel_spectrograms = np.array(test_mel_spectrograms)\n",
    "test_mfccs = np.array(test_mfccs)\n",
    "test_y = to_categorical(np.array(test_y))\n",
    "\n",
    "\n",
    "print 'train_X:', train_X.shape\n",
    "print 'train_spectrograms:', train_spectrograms.shape\n",
    "print 'train_mel_spectrograms:', train_mel_spectrograms.shape\n",
    "print 'train_mfccs:', train_mfccs.shape\n",
    "print 'train_y:', train_y.shape\n",
    "print\n",
    "print 'test_X:', test_X.shape\n",
    "print 'test_spectrograms:', test_spectrograms.shape\n",
    "print 'test_mel_spectrograms:', test_mel_spectrograms.shape\n",
    "print 'test_mfccs:', test_mfccs.shape\n",
    "print 'test_y:', test_y.shape"
   ]
  },
  {
   "cell_type": "code",
   "execution_count": null,
   "metadata": {},
   "outputs": [],
   "source": [
    "ip = Input(shape=(train_X[0].shape))\n",
    "hidden = Dense(128, activation='relu')(ip)\n",
    "op = Dense(10, activation='softmax')(hidden)\n",
    "model = Model(input=ip, output=op)\n",
    "\n",
    "model.summary()"
   ]
  },
  {
   "cell_type": "code",
   "execution_count": null,
   "metadata": {},
   "outputs": [],
   "source": [
    "model.compile(loss='categorical_crossentropy',\n",
    "              optimizer='adam',\n",
    "              metrics=['accuracy'])\n",
    "\n",
    "history = model.fit(train_X,\n",
    "          train_y,\n",
    "          epochs=10,\n",
    "          batch_size=32,\n",
    "          validation_data=(test_X, test_y))"
   ]
  },
  {
   "cell_type": "code",
   "execution_count": null,
   "metadata": {},
   "outputs": [],
   "source": [
    "plt.plot(history.history['acc'], label='Train Accuracy')\n",
    "plt.plot(history.history['val_acc'], label='Validation Accuracy')\n",
    "plt.xlabel('Epochs')\n",
    "plt.ylabel('Accuracy')\n",
    "plt.legend()"
   ]
  },
  {
   "cell_type": "markdown",
   "metadata": {},
   "source": [
    "# SPECTROGRAMS CNN"
   ]
  },
  {
   "cell_type": "code",
   "execution_count": 8,
   "metadata": {},
   "outputs": [
    {
     "name": "stdout",
     "output_type": "stream",
     "text": [
      "train X shape: (1000, 1025, 40, 1)\n",
      "test X shape: (500, 1025, 40, 1)\n"
     ]
    }
   ],
   "source": [
    "train_X_ex = np.expand_dims(train_spectrograms, -1)\n",
    "test_X_ex = np.expand_dims(test_spectrograms, -1)\n",
    "print 'train X shape:', train_X_ex.shape\n",
    "print 'test X shape:', test_X_ex.shape"
   ]
  },
  {
   "cell_type": "code",
   "execution_count": 12,
   "metadata": {},
   "outputs": [
    {
     "name": "stdout",
     "output_type": "stream",
     "text": [
      "_________________________________________________________________\n",
      "Layer (type)                 Output Shape              Param #   \n",
      "=================================================================\n",
      "input_2 (InputLayer)         (None, 1025, 40, 1)       0         \n",
      "_________________________________________________________________\n",
      "conv2d_4 (Conv2D)            (None, 1022, 37, 64)      1088      \n",
      "_________________________________________________________________\n",
      "max_pooling2d_4 (MaxPooling2 (None, 255, 9, 64)        0         \n",
      "_________________________________________________________________\n",
      "dropout_3 (Dropout)          (None, 255, 9, 64)        0         \n",
      "_________________________________________________________________\n",
      "flatten_2 (Flatten)          (None, 146880)            0         \n",
      "_________________________________________________________________\n",
      "dense_3 (Dense)              (None, 32)                4700192   \n",
      "_________________________________________________________________\n",
      "dense_4 (Dense)              (None, 10)                330       \n",
      "=================================================================\n",
      "Total params: 4,701,610\n",
      "Trainable params: 4,701,610\n",
      "Non-trainable params: 0\n",
      "_________________________________________________________________\n"
     ]
    },
    {
     "name": "stderr",
     "output_type": "stream",
     "text": [
      "/Users/dima/.virtualenvs/hs/lib/python2.7/site-packages/ipykernel/__main__.py:12: UserWarning: Update your `Model` call to the Keras 2 API: `Model(outputs=Tensor(\"de..., inputs=Tensor(\"in...)`\n"
     ]
    }
   ],
   "source": [
    "ip = Input(shape=train_X_ex[0].shape)\n",
    "m = Conv2D(32, kernel_size=(4, 4), activation='relu', padding='same')(ip)\n",
    "m = MaxPooling2D(pool_size=(4, 4))(m)\n",
    "m = Dropout(0.2)(m)\n",
    "m = Conv2D(64, kernel_size=(4, 4), activation='relu')(ip)\n",
    "m = MaxPooling2D(pool_size=(4, 4))(m)\n",
    "m = Dropout(0.2)(m)\n",
    "m = Flatten()(m)\n",
    "m = Dense(32, activation='relu')(m)\n",
    "op = Dense(10, activation='softmax')(m)\n",
    "\n",
    "model = Model(input=ip, output=op)\n",
    "\n",
    "model.summary()"
   ]
  },
  {
   "cell_type": "code",
   "execution_count": 13,
   "metadata": {},
   "outputs": [
    {
     "name": "stdout",
     "output_type": "stream",
     "text": [
      "Train on 1000 samples, validate on 500 samples\n",
      "Epoch 1/10\n",
      "1000/1000 [==============================] - 37s 37ms/step - loss: 1.2106 - acc: 0.6540 - val_loss: 1.8451 - val_acc: 0.3500\n",
      "Epoch 2/10\n",
      "1000/1000 [==============================] - 36s 36ms/step - loss: 0.2179 - acc: 0.9360 - val_loss: 1.7112 - val_acc: 0.5440\n",
      "Epoch 3/10\n",
      "1000/1000 [==============================] - 35s 35ms/step - loss: 0.1119 - acc: 0.9670 - val_loss: 1.5084 - val_acc: 0.6500\n",
      "Epoch 4/10\n",
      "1000/1000 [==============================] - 36s 36ms/step - loss: 0.0486 - acc: 0.9860 - val_loss: 1.5877 - val_acc: 0.5100\n",
      "Epoch 5/10\n",
      "1000/1000 [==============================] - 36s 36ms/step - loss: 0.0523 - acc: 0.9810 - val_loss: 1.4572 - val_acc: 0.6680\n",
      "Epoch 6/10\n",
      "1000/1000 [==============================] - 36s 36ms/step - loss: 0.0223 - acc: 0.9960 - val_loss: 1.4729 - val_acc: 0.6420\n",
      "Epoch 7/10\n",
      "1000/1000 [==============================] - 36s 36ms/step - loss: 0.0269 - acc: 0.9920 - val_loss: 1.4190 - val_acc: 0.6420\n",
      "Epoch 8/10\n",
      "1000/1000 [==============================] - 36s 36ms/step - loss: 0.0787 - acc: 0.9830 - val_loss: 1.4275 - val_acc: 0.6480\n",
      "Epoch 9/10\n",
      "1000/1000 [==============================] - 36s 36ms/step - loss: 0.0556 - acc: 0.9890 - val_loss: 1.4976 - val_acc: 0.5940\n",
      "Epoch 10/10\n",
      "1000/1000 [==============================] - 36s 36ms/step - loss: 0.0133 - acc: 0.9980 - val_loss: 1.4833 - val_acc: 0.6160\n"
     ]
    }
   ],
   "source": [
    "model.compile(loss='categorical_crossentropy',\n",
    "              optimizer='adam',\n",
    "              metrics=['accuracy'])\n",
    "\n",
    "history = model.fit(train_X_ex,\n",
    "          train_y,\n",
    "          epochs=10,\n",
    "          batch_size=32,\n",
    "          verbose=1,\n",
    "          validation_data=(test_X_ex, test_y))"
   ]
  },
  {
   "cell_type": "code",
   "execution_count": 14,
   "metadata": {},
   "outputs": [
    {
     "data": {
      "text/plain": [
       "<matplotlib.legend.Legend at 0x12359a910>"
      ]
     },
     "execution_count": 14,
     "metadata": {},
     "output_type": "execute_result"
    },
    {
     "data": {
      "image/png": "[encoded data removed]",
      "text/plain": [
       "<matplotlib.figure.Figure at 0x10e546550>"
      ]
     },
     "metadata": {},
     "output_type": "display_data"
    }
   ],
   "source": [
    "plt.plot(history.history['acc'], label='Train Accuracy')\n",
    "plt.plot(history.history['val_acc'], label='Validation Accuracy')\n",
    "plt.xlabel('Epochs')\n",
    "plt.ylabel('Accuracy')\n",
    "plt.legend()"
   ]
  },
  {
   "cell_type": "markdown",
   "metadata": {},
   "source": [
    "# MEL SPECTROGRAM CNN"
   ]
  },
  {
   "cell_type": "code",
   "execution_count": 15,
   "metadata": {},
   "outputs": [
    {
     "name": "stdout",
     "output_type": "stream",
     "text": [
      "train X shape: (1000, 128, 40, 1)\n",
      "test X shape: (500, 128, 40, 1)\n"
     ]
    }
   ],
   "source": [
    "train_X_ex = np.expand_dims(train_mel_spectrograms, -1)\n",
    "test_X_ex = np.expand_dims(test_mel_spectrograms, -1)\n",
    "print 'train X shape:', train_X_ex.shape\n",
    "print 'test X shape:', test_X_ex.shape"
   ]
  },
  {
   "cell_type": "code",
   "execution_count": 16,
   "metadata": {},
   "outputs": [
    {
     "name": "stdout",
     "output_type": "stream",
     "text": [
      "_________________________________________________________________\n",
      "Layer (type)                 Output Shape              Param #   \n",
      "=================================================================\n",
      "input_3 (InputLayer)         (None, 128, 40, 1)        0         \n",
      "_________________________________________________________________\n",
      "conv2d_6 (Conv2D)            (None, 125, 37, 64)       1088      \n",
      "_________________________________________________________________\n",
      "max_pooling2d_6 (MaxPooling2 (None, 31, 9, 64)         0         \n",
      "_________________________________________________________________\n",
      "dropout_5 (Dropout)          (None, 31, 9, 64)         0         \n",
      "_________________________________________________________________\n",
      "flatten_3 (Flatten)          (None, 17856)             0         \n",
      "_________________________________________________________________\n",
      "dense_5 (Dense)              (None, 32)                571424    \n",
      "_________________________________________________________________\n",
      "dense_6 (Dense)              (None, 10)                330       \n",
      "=================================================================\n",
      "Total params: 572,842\n",
      "Trainable params: 572,842\n",
      "Non-trainable params: 0\n",
      "_________________________________________________________________\n"
     ]
    },
    {
     "name": "stderr",
     "output_type": "stream",
     "text": [
      "/Users/dima/.virtualenvs/hs/lib/python2.7/site-packages/ipykernel/__main__.py:12: UserWarning: Update your `Model` call to the Keras 2 API: `Model(outputs=Tensor(\"de..., inputs=Tensor(\"in...)`\n"
     ]
    }
   ],
   "source": [
    "ip = Input(shape=train_X_ex[0].shape)\n",
    "m = Conv2D(32, kernel_size=(4, 4), activation='relu', padding='same')(ip)\n",
    "m = MaxPooling2D(pool_size=(4, 4))(m)\n",
    "m = Dropout(0.2)(m)\n",
    "m = Conv2D(64, kernel_size=(4, 4), activation='relu')(ip)\n",
    "m = MaxPooling2D(pool_size=(4, 4))(m)\n",
    "m = Dropout(0.2)(m)\n",
    "m = Flatten()(m)\n",
    "m = Dense(32, activation='relu')(m)\n",
    "op = Dense(10, activation='softmax')(m)\n",
    "\n",
    "model = Model(input=ip, output=op)\n",
    "\n",
    "model.summary()"
   ]
  },
  {
   "cell_type": "code",
   "execution_count": 17,
   "metadata": {},
   "outputs": [
    {
     "name": "stdout",
     "output_type": "stream",
     "text": [
      "Train on 1000 samples, validate on 500 samples\n",
      "Epoch 1/10\n",
      "1000/1000 [==============================] - 5s 5ms/step - loss: 2.1539 - acc: 0.4050 - val_loss: 2.2378 - val_acc: 0.2060\n",
      "Epoch 2/10\n",
      "1000/1000 [==============================] - 4s 4ms/step - loss: 1.0881 - acc: 0.6450 - val_loss: 2.2974 - val_acc: 0.1640\n",
      "Epoch 3/10\n",
      "1000/1000 [==============================] - 4s 4ms/step - loss: 0.7304 - acc: 0.8020 - val_loss: 2.4219 - val_acc: 0.1600\n",
      "Epoch 4/10\n",
      "1000/1000 [==============================] - 4s 4ms/step - loss: 0.5459 - acc: 0.8530 - val_loss: 2.4777 - val_acc: 0.1580\n",
      "Epoch 5/10\n",
      "1000/1000 [==============================] - 4s 4ms/step - loss: 0.3867 - acc: 0.9170 - val_loss: 2.6358 - val_acc: 0.1660\n",
      "Epoch 6/10\n",
      "1000/1000 [==============================] - 4s 4ms/step - loss: 0.3840 - acc: 0.9110 - val_loss: 2.5003 - val_acc: 0.1800\n",
      "Epoch 7/10\n",
      "1000/1000 [==============================] - 4s 4ms/step - loss: 0.3243 - acc: 0.9190 - val_loss: 2.5728 - val_acc: 0.2120\n",
      "Epoch 8/10\n",
      "1000/1000 [==============================] - 4s 4ms/step - loss: 0.3057 - acc: 0.9290 - val_loss: 2.5160 - val_acc: 0.2220\n",
      "Epoch 9/10\n",
      "1000/1000 [==============================] - 4s 4ms/step - loss: 0.3020 - acc: 0.9330 - val_loss: 2.7102 - val_acc: 0.2660\n",
      "Epoch 10/10\n",
      "1000/1000 [==============================] - 4s 4ms/step - loss: 0.2579 - acc: 0.9360 - val_loss: 2.6487 - val_acc: 0.1880\n"
     ]
    }
   ],
   "source": [
    "model.compile(loss='categorical_crossentropy',\n",
    "              optimizer='adam',\n",
    "              metrics=['accuracy'])\n",
    "\n",
    "history = model.fit(train_X_ex,\n",
    "          train_y,\n",
    "          epochs=10,\n",
    "          batch_size=32,\n",
    "          verbose=1,\n",
    "          validation_data=(test_X_ex, test_y))"
   ]
  },
  {
   "cell_type": "code",
   "execution_count": 18,
   "metadata": {},
   "outputs": [
    {
     "data": {
      "text/plain": [
       "<matplotlib.legend.Legend at 0x1232d1510>"
      ]
     },
     "execution_count": 18,
     "metadata": {},
     "output_type": "execute_result"
    },
    {
     "data": {
      "image/png": "[encoded data removed]",
      "text/plain": [
       "<matplotlib.figure.Figure at 0x10e546ad0>"
      ]
     },
     "metadata": {},
     "output_type": "display_data"
    }
   ],
   "source": [
    "plt.plot(history.history['acc'], label='Train Accuracy')\n",
    "plt.plot(history.history['val_acc'], label='Validation Accuracy')\n",
    "plt.xlabel('Epochs')\n",
    "plt.ylabel('Accuracy')\n",
    "plt.legend()"
   ]
  },
  {
   "cell_type": "markdown",
   "metadata": {},
   "source": [
    "# MFCC CNN"
   ]
  },
  {
   "cell_type": "code",
   "execution_count": null,
   "metadata": {},
   "outputs": [],
   "source": [
    "train_X_ex = np.expand_dims(train_mfccs, -1)\n",
    "test_X_ex = np.expand_dims(test_mfccs, -1)\n",
    "print 'train X shape:', train_X_ex.shape\n",
    "print 'test X shape:', test_X_ex.shape"
   ]
  },
  {
   "cell_type": "code",
   "execution_count": null,
   "metadata": {},
   "outputs": [],
   "source": [
    "ip = Input(shape=train_X_ex[0].shape)\n",
    "m = Conv2D(64, kernel_size=(4, 4), activation='relu')(ip)\n",
    "m = MaxPooling2D(pool_size=(4, 4))(m)\n",
    "# m = Conv2D(128, kernel_size=(2, 2), activation='relu')(ip)\n",
    "# m = MaxPooling2D(pool_size=(2, 2))(m)\n",
    "m = Flatten()(m)\n",
    "m = Dense(32, activation='relu')(m)\n",
    "op = Dense(10, activation='softmax')(m)\n",
    "\n",
    "model = Model(input=ip, output=op)\n",
    "\n",
    "model.summary()"
   ]
  },
  {
   "cell_type": "code",
   "execution_count": null,
   "metadata": {},
   "outputs": [],
   "source": [
    "model.compile(loss='categorical_crossentropy',\n",
    "              optimizer='adam',\n",
    "              metrics=['accuracy'])\n",
    "\n",
    "history = model.fit(train_X_ex,\n",
    "          train_y,\n",
    "          epochs=100,\n",
    "          batch_size=32,\n",
    "          verbose=0,\n",
    "          validation_data=(test_X_ex, test_y))"
   ]
  },
  {
   "cell_type": "code",
   "execution_count": null,
   "metadata": {},
   "outputs": [],
   "source": [
    "plt.plot(history.history['acc'], label='Train Accuracy')\n",
    "plt.plot(history.history['val_acc'], label='Validation Accuracy')\n",
    "plt.xlabel('Epochs')\n",
    "plt.ylabel('Accuracy')\n",
    "plt.legend()"
   ]
  },
  {
   "cell_type": "code",
   "execution_count": 19,
   "metadata": {},
   "outputs": [
    {
     "data": {
      "text/plain": [
       "[<matplotlib.lines.Line2D at 0x124b47950>]"
      ]
     },
     "execution_count": 19,
     "metadata": {},
     "output_type": "execute_result"
    },
    {
     "data": {
      "image/png": "[encoded data removed]",
      "text/plain": [
       "<matplotlib.figure.Figure at 0x10e50fa50>"
      ]
     },
     "metadata": {},
     "output_type": "display_data"
    }
   ],
   "source": [
    "plt.plot(wav)"
   ]
  },
  {
   "cell_type": "code",
   "execution_count": 28,
   "metadata": {
    "collapsed": true
   },
   "outputs": [],
   "source": [
    "stft = np.abs(librosa.stft(wav))"
   ]
  },
  {
   "cell_type": "code",
   "execution_count": 29,
   "metadata": {},
   "outputs": [
    {
     "data": {
      "text/plain": [
       "<matplotlib.image.AxesImage at 0x125b39210>"
      ]
     },
     "execution_count": 29,
     "metadata": {},
     "output_type": "execute_result"
    },
    {
     "data": {
      "image/png": "[encoded data removed]",
      "text/plain": [
       "<matplotlib.figure.Figure at 0x125bd81d0>"
      ]
     },
     "metadata": {},
     "output_type": "display_data"
    }
   ],
   "source": [
    "plt.imshow(np.abs(stft[:200, :]))"
   ]
  },
  {
   "cell_type": "code",
   "execution_count": 23,
   "metadata": {},
   "outputs": [
    {
     "data": {
      "text/plain": [
       "(1025, 16)"
      ]
     },
     "execution_count": 23,
     "metadata": {},
     "output_type": "execute_result"
    }
   ],
   "source": [
    "stft.shape"
   ]
  },
  {
   "cell_type": "code",
   "execution_count": 52,
   "metadata": {},
   "outputs": [
    {
     "data": {
      "text/plain": [
       "<matplotlib.axes._subplots.AxesSubplot at 0x126206cd0>"
      ]
     },
     "execution_count": 52,
     "metadata": {},
     "output_type": "execute_result"
    },
    {
     "data": {
      "image/png": "[encoded data removed]",
      "text/plain": [
       "<matplotlib.figure.Figure at 0x12ee2bad0>"
      ]
     },
     "metadata": {},
     "output_type": "display_data"
    }
   ],
   "source": [
    "\n",
    "librosa.display.specshow(librosa.stft(wav),sr=sr)"
   ]
  },
  {
   "cell_type": "code",
   "execution_count": 53,
   "metadata": {},
   "outputs": [
    {
     "data": {
      "text/plain": [
       "Text(0.5,1,u'Linear-frequency power spectrogram')"
      ]
     },
     "execution_count": 53,
     "metadata": {},
     "output_type": "execute_result"
    },
    {
     "data": {
      "image/png": "[encoded data removed]",
      "text/plain": [
       "<matplotlib.figure.Figure at 0x12fb67d10>"
      ]
     },
     "metadata": {},
     "output_type": "display_data"
    }
   ],
   "source": [
    "D = np.abs(librosa.stft(wav))\n",
    "librosa.display.specshow(D, y_axis='linear')\n",
    "plt.colorbar(format='%+2.0f dB')\n",
    "plt.title('Linear-frequency power spectrogram')"
   ]
  },
  {
   "cell_type": "code",
   "execution_count": 67,
   "metadata": {},
   "outputs": [
    {
     "data": {
      "text/plain": [
       "<matplotlib.axes._subplots.AxesSubplot at 0x125aefc90>"
      ]
     },
     "execution_count": 67,
     "metadata": {},
     "output_type": "execute_result"
    },
    {
     "data": {
      "image/png": "[encoded data removed]",
      "text/plain": [
       "<matplotlib.figure.Figure at 0x125c2db50>"
      ]
     },
     "metadata": {},
     "output_type": "display_data"
    }
   ],
   "source": [
    "D = librosa.amplitude_to_db(np.abs(librosa.stft(wav)), ref=np.max)\n",
    "librosa.display.specshow(D, y_axis='linear')"
   ]
  },
  {
   "cell_type": "code",
   "execution_count": 57,
   "metadata": {},
   "outputs": [
    {
     "data": {
      "text/plain": [
       "[<matplotlib.lines.Line2D at 0x12fe04190>]"
      ]
     },
     "execution_count": 57,
     "metadata": {},
     "output_type": "execute_result"
    },
    {
     "data": {
      "image/png": "[encoded data removed]",
      "text/plain": [
       "<matplotlib.figure.Figure at 0x12eb6c390>"
      ]
     },
     "metadata": {},
     "output_type": "display_data"
    }
   ],
   "source": [
    "plt.plot(wav)"
   ]
  },
  {
   "cell_type": "code",
   "execution_count": 50,
   "metadata": {},
   "outputs": [
    {
     "data": {
      "text/plain": [
       "22050"
      ]
     },
     "execution_count": 50,
     "metadata": {},
     "output_type": "execute_result"
    }
   ],
   "source": [
    "sr"
   ]
  },
  {
   "cell_type": "code",
   "execution_count": null,
   "metadata": {
    "collapsed": true
   },
   "outputs": [],
   "source": []
  }
 ],
 "metadata": {
  "kernelspec": {
   "display_name": "Python (hiredscore)",
   "language": "python",
   "name": "hiredscore"
  },
  "language_info": {
   "codemirror_mode": {
    "name": "ipython",
    "version": 2
   },
   "file_extension": ".py",
   "mimetype": "text/x-python",
   "name": "python",
   "nbconvert_exporter": "python",
   "pygments_lexer": "ipython2",
   "version": "2.7.13"
  }
 },
 "nbformat": 4,
 "nbformat_minor": 2
}
