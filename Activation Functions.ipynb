{
 "cells": [
  {
   "cell_type": "markdown",
   "metadata": {},
   "source": [
    "# Imports"
   ]
  },
  {
   "cell_type": "code",
   "execution_count": 38,
   "metadata": {},
   "outputs": [],
   "source": [
    "%matplotlib inline\n",
    "import matplotlib.pyplot as plt\n",
    "import keras\n",
    "from keras.datasets import mnist\n",
    "from keras.models import Sequential\n",
    "from keras.layers import Dense, Dropout\n",
    "from keras.optimizers import RMSprop\n",
    "from keras.layers.advanced_activations import LeakyReLU"
   ]
  },
  {
   "cell_type": "markdown",
   "metadata": {
    "collapsed": true
   },
   "source": [
    "# Load the data\n"
   ]
  },
  {
   "cell_type": "code",
   "execution_count": 51,
   "metadata": {},
   "outputs": [
    {
     "name": "stdout",
     "output_type": "stream",
     "text": [
      "Train size: 60000\n",
      "Test size: 10000\n"
     ]
    }
   ],
   "source": [
    "(x_train, y_train), (x_test, y_test) = mnist.load_data()\n",
    "\n",
    "x_train = x_train.reshape(60000, 784)\n",
    "x_test = x_test.reshape(10000, 784)\n",
    "x_train = x_train.astype('float32')\n",
    "x_test = x_test.astype('float32')\n",
    "x_train /= 255\n",
    "x_test /= 255\n",
    "y_train = keras.utils.to_categorical(y_train, num_classes)\n",
    "y_test = keras.utils.to_categorical(y_test, num_classes)\n",
    "num_classes = 10\n",
    "\n",
    "print 'Train size:', x_train.shape[0]\n",
    "print 'Test size:', x_test.shape[0]"
   ]
  },
  {
   "cell_type": "raw",
   "metadata": {
    "collapsed": true
   },
   "source": [
    "# Build network with relu"
   ]
  },
  {
   "cell_type": "code",
   "execution_count": 52,
   "metadata": {},
   "outputs": [
    {
     "name": "stdout",
     "output_type": "stream",
     "text": [
      "dense_57 (None, 784) ==> (None, 512)\n",
      "dense_58 (None, 512) ==> (None, 10)\n",
      "\n",
      "_________________________________________________________________\n",
      "Layer (type)                 Output Shape              Param #   \n",
      "=================================================================\n",
      "dense_57 (Dense)             (None, 512)               401920    \n",
      "_________________________________________________________________\n",
      "dense_58 (Dense)             (None, 10)                5130      \n",
      "=================================================================\n",
      "Total params: 407,050\n",
      "Trainable params: 407,050\n",
      "Non-trainable params: 0\n",
      "_________________________________________________________________\n",
      "None\n"
     ]
    }
   ],
   "source": [
    "model = Sequential()\n",
    "model.add(Dense(512, activation='relu', input_shape=(784,)))\n",
    "model.add(Dense(10, activation='softmax'))\n",
    "\n",
    "for l in model.layers:\n",
    "    print l.name, l.input_shape,'==>',l.output_shape\n",
    "print\n",
    "print model.summary()"
   ]
  },
  {
   "cell_type": "markdown",
   "metadata": {},
   "source": [
    "# Train the network"
   ]
  },
  {
   "cell_type": "code",
   "execution_count": 55,
   "metadata": {},
   "outputs": [
    {
     "name": "stdout",
     "output_type": "stream",
     "text": [
      "Train on 60000 samples, validate on 10000 samples\n",
      "Epoch 1/20\n",
      "60000/60000 [==============================] - 4s - loss: 0.0282 - acc: 0.9914 - val_loss: 0.0709 - val_acc: 0.9786\n",
      "Epoch 2/20\n",
      "60000/60000 [==============================] - 3s - loss: 0.0216 - acc: 0.9936 - val_loss: 0.0694 - val_acc: 0.9800\n",
      "Epoch 3/20\n",
      "60000/60000 [==============================] - 4s - loss: 0.0163 - acc: 0.9954 - val_loss: 0.0696 - val_acc: 0.9806\n",
      "Epoch 4/20\n",
      "60000/60000 [==============================] - 4s - loss: 0.0129 - acc: 0.9962 - val_loss: 0.0639 - val_acc: 0.9813\n",
      "Epoch 5/20\n",
      "60000/60000 [==============================] - 3s - loss: 0.0101 - acc: 0.9969 - val_loss: 0.0801 - val_acc: 0.9803\n",
      "Epoch 6/20\n",
      "60000/60000 [==============================] - 3s - loss: 0.0082 - acc: 0.9977 - val_loss: 0.0777 - val_acc: 0.9817\n",
      "Epoch 7/20\n",
      "60000/60000 [==============================] - 4s - loss: 0.0060 - acc: 0.9982 - val_loss: 0.0706 - val_acc: 0.9831\n",
      "Epoch 8/20\n",
      "60000/60000 [==============================] - 3s - loss: 0.0051 - acc: 0.9986 - val_loss: 0.0763 - val_acc: 0.9813\n",
      "Epoch 9/20\n",
      "60000/60000 [==============================] - 3s - loss: 0.0039 - acc: 0.9990 - val_loss: 0.0813 - val_acc: 0.9825\n",
      "Epoch 10/20\n",
      "60000/60000 [==============================] - 4s - loss: 0.0035 - acc: 0.9991 - val_loss: 0.0707 - val_acc: 0.9830\n",
      "Epoch 11/20\n",
      "60000/60000 [==============================] - 3s - loss: 0.0024 - acc: 0.9994 - val_loss: 0.0803 - val_acc: 0.9824\n",
      "Epoch 12/20\n",
      "60000/60000 [==============================] - 4s - loss: 0.0018 - acc: 0.9996 - val_loss: 0.0803 - val_acc: 0.9830\n",
      "Epoch 13/20\n",
      "60000/60000 [==============================] - 4s - loss: 0.0017 - acc: 0.9996 - val_loss: 0.0845 - val_acc: 0.9836\n",
      "Epoch 14/20\n",
      "60000/60000 [==============================] - 3s - loss: 0.0013 - acc: 0.9997 - val_loss: 0.0980 - val_acc: 0.9806\n",
      "Epoch 15/20\n",
      "60000/60000 [==============================] - 3s - loss: 0.0013 - acc: 0.9996 - val_loss: 0.0970 - val_acc: 0.9815\n",
      "Epoch 16/20\n",
      "60000/60000 [==============================] - 3s - loss: 8.2404e-04 - acc: 0.9999 - val_loss: 0.0963 - val_acc: 0.9837\n",
      "Epoch 17/20\n",
      "60000/60000 [==============================] - 3s - loss: 8.7458e-04 - acc: 0.9999 - val_loss: 0.0926 - val_acc: 0.9833\n",
      "Epoch 18/20\n",
      "60000/60000 [==============================] - 3s - loss: 8.1622e-04 - acc: 0.9999 - val_loss: 0.0900 - val_acc: 0.9837\n",
      "Epoch 19/20\n",
      "60000/60000 [==============================] - 3s - loss: 8.8688e-04 - acc: 0.9998 - val_loss: 0.1033 - val_acc: 0.9823\n",
      "Epoch 20/20\n",
      "60000/60000 [==============================] - 3s - loss: 5.2301e-04 - acc: 0.9999 - val_loss: 0.0984 - val_acc: 0.9827\n",
      "\n",
      "Test loss: 0.098\n",
      "Test accuracy: 0.983\n"
     ]
    },
    {
     "data": {
      "text/plain": [
       "<matplotlib.legend.Legend at 0x11ed6d290>"
      ]
     },
     "execution_count": 55,
     "metadata": {},
     "output_type": "execute_result"
    },
    {
     "data": {
      "image/png": "[encoded data removed]",
      "text/plain": [
       "<matplotlib.figure.Figure at 0x11ec66c50>"
      ]
     },
     "metadata": {},
     "output_type": "display_data"
    }
   ],
   "source": [
    "batch_size = 128\n",
    "epochs = 20\n",
    "\n",
    "model.compile(loss='categorical_crossentropy',\n",
    "              optimizer=RMSprop(),\n",
    "              metrics=['accuracy'])\n",
    "    \n",
    "history = model.fit(x_train, y_train,\n",
    "                    batch_size=batch_size,\n",
    "                    epochs=epochs,\n",
    "                    verbose=1,\n",
    "                    validation_data=(x_test, y_test))\n",
    "\n",
    "score = model.evaluate(x_test, y_test, verbose=100)\n",
    "\n",
    "print\n",
    "print 'Test loss:', round(score[0], 3)\n",
    "print 'Test accuracy:', round(score[1], 3)\n",
    "plt.plot(history.history['loss'])\n",
    "plt.plot(history.history['val_loss'])\n",
    "plt.title('model loss')\n",
    "plt.ylabel('loss')\n",
    "plt.xlabel('epoch')\n",
    "plt.legend(['train', 'test'], loc='upper left')"
   ]
  },
  {
   "cell_type": "markdown",
   "metadata": {},
   "source": [
    "# Build networks using all activations"
   ]
  },
  {
   "cell_type": "code",
   "execution_count": 45,
   "metadata": {},
   "outputs": [
    {
     "name": "stdout",
     "output_type": "stream",
     "text": [
      "Train on 60000 samples, validate on 10000 samples\n",
      "Epoch 1/20\n",
      "60000/60000 [==============================] - 4s - loss: 0.3789 - acc: 0.8897 - val_loss: 0.3093 - val_acc: 0.9110\n",
      "Epoch 2/20\n",
      "60000/60000 [==============================] - 3s - loss: 0.3083 - acc: 0.9144 - val_loss: 0.2901 - val_acc: 0.9196\n",
      "Epoch 3/20\n",
      "60000/60000 [==============================] - 3s - loss: 0.2955 - acc: 0.9177 - val_loss: 0.3073 - val_acc: 0.9192\n",
      "Epoch 4/20\n",
      "60000/60000 [==============================] - 3s - loss: 0.2873 - acc: 0.9203 - val_loss: 0.2994 - val_acc: 0.9180\n",
      "Epoch 5/20\n",
      "60000/60000 [==============================] - 3s - loss: 0.2818 - acc: 0.9215 - val_loss: 0.2772 - val_acc: 0.9234\n",
      "Epoch 6/20\n",
      "60000/60000 [==============================] - 3s - loss: 0.2784 - acc: 0.9229 - val_loss: 0.3133 - val_acc: 0.9120\n",
      "Epoch 7/20\n",
      "60000/60000 [==============================] - 3s - loss: 0.2758 - acc: 0.9236 - val_loss: 0.3010 - val_acc: 0.9187\n",
      "Epoch 8/20\n",
      "60000/60000 [==============================] - 3s - loss: 0.2726 - acc: 0.9243 - val_loss: 0.3380 - val_acc: 0.9093\n",
      "Epoch 9/20\n",
      "60000/60000 [==============================] - 3s - loss: 0.2716 - acc: 0.9250 - val_loss: 0.2872 - val_acc: 0.9199\n",
      "Epoch 10/20\n",
      "60000/60000 [==============================] - 3s - loss: 0.2678 - acc: 0.9262 - val_loss: 0.2952 - val_acc: 0.9207\n",
      "Epoch 11/20\n",
      "60000/60000 [==============================] - 3s - loss: 0.2665 - acc: 0.9257 - val_loss: 0.2876 - val_acc: 0.9212\n",
      "Epoch 12/20\n",
      "60000/60000 [==============================] - 3s - loss: 0.2650 - acc: 0.9265 - val_loss: 0.2860 - val_acc: 0.9251\n",
      "Epoch 13/20\n",
      "60000/60000 [==============================] - 3s - loss: 0.2645 - acc: 0.9271 - val_loss: 0.2832 - val_acc: 0.9235\n",
      "Epoch 14/20\n",
      "60000/60000 [==============================] - 3s - loss: 0.2626 - acc: 0.9273 - val_loss: 0.2864 - val_acc: 0.9235\n",
      "Epoch 15/20\n",
      "60000/60000 [==============================] - 3s - loss: 0.2619 - acc: 0.9280 - val_loss: 0.2793 - val_acc: 0.9260\n",
      "Epoch 16/20\n",
      "60000/60000 [==============================] - 3s - loss: 0.2607 - acc: 0.9275 - val_loss: 0.2931 - val_acc: 0.9236\n",
      "Epoch 17/20\n",
      "60000/60000 [==============================] - 3s - loss: 0.2600 - acc: 0.9280 - val_loss: 0.2917 - val_acc: 0.9209\n",
      "Epoch 18/20\n",
      "60000/60000 [==============================] - 3s - loss: 0.2596 - acc: 0.9281 - val_loss: 0.2994 - val_acc: 0.9188\n",
      "Epoch 19/20\n",
      "60000/60000 [==============================] - 3s - loss: 0.2587 - acc: 0.9277 - val_loss: 0.2799 - val_acc: 0.9250\n",
      "Epoch 20/20\n",
      "60000/60000 [==============================] - 3s - loss: 0.2562 - acc: 0.9295 - val_loss: 0.2967 - val_acc: 0.9189\n",
      "Train on 60000 samples, validate on 10000 samples\n",
      "Epoch 1/20\n",
      "60000/60000 [==============================] - 4s - loss: 0.4254 - acc: 0.8844 - val_loss: 0.2690 - val_acc: 0.9220\n",
      "Epoch 2/20\n",
      "60000/60000 [==============================] - 3s - loss: 0.2344 - acc: 0.9318 - val_loss: 0.1963 - val_acc: 0.9433\n",
      "Epoch 3/20\n",
      "60000/60000 [==============================] - 4s - loss: 0.1777 - acc: 0.9481 - val_loss: 0.1681 - val_acc: 0.9504\n",
      "Epoch 4/20\n",
      "60000/60000 [==============================] - 3s - loss: 0.1392 - acc: 0.9592 - val_loss: 0.1446 - val_acc: 0.9561\n",
      "Epoch 5/20\n",
      "60000/60000 [==============================] - 3s - loss: 0.1121 - acc: 0.9673 - val_loss: 0.1123 - val_acc: 0.9670\n",
      "Epoch 6/20\n",
      "60000/60000 [==============================] - 3s - loss: 0.0922 - acc: 0.9733 - val_loss: 0.1032 - val_acc: 0.9692\n",
      "Epoch 7/20\n",
      "60000/60000 [==============================] - 3s - loss: 0.0781 - acc: 0.9771 - val_loss: 0.0908 - val_acc: 0.9718\n",
      "Epoch 8/20\n",
      "60000/60000 [==============================] - 3s - loss: 0.0664 - acc: 0.9805 - val_loss: 0.0826 - val_acc: 0.9749\n",
      "Epoch 9/20\n",
      "60000/60000 [==============================] - 3s - loss: 0.0577 - acc: 0.9833 - val_loss: 0.0804 - val_acc: 0.9751\n",
      "Epoch 10/20\n",
      "60000/60000 [==============================] - 3s - loss: 0.0499 - acc: 0.9854 - val_loss: 0.0721 - val_acc: 0.9765\n",
      "Epoch 11/20\n",
      "60000/60000 [==============================] - 3s - loss: 0.0431 - acc: 0.9883 - val_loss: 0.0751 - val_acc: 0.9769\n",
      "Epoch 12/20\n",
      "60000/60000 [==============================] - 3s - loss: 0.0376 - acc: 0.9890 - val_loss: 0.0675 - val_acc: 0.9795\n",
      "Epoch 13/20\n",
      "60000/60000 [==============================] - 3s - loss: 0.0331 - acc: 0.9906 - val_loss: 0.0697 - val_acc: 0.9784\n",
      "Epoch 14/20\n",
      "60000/60000 [==============================] - 4s - loss: 0.0287 - acc: 0.9920 - val_loss: 0.0658 - val_acc: 0.9796\n",
      "Epoch 15/20\n",
      "60000/60000 [==============================] - 3s - loss: 0.0252 - acc: 0.9932 - val_loss: 0.0662 - val_acc: 0.9796\n",
      "Epoch 16/20\n",
      "60000/60000 [==============================] - 3s - loss: 0.0220 - acc: 0.9946 - val_loss: 0.0637 - val_acc: 0.9813\n",
      "Epoch 17/20\n",
      "60000/60000 [==============================] - 3s - loss: 0.0192 - acc: 0.9951 - val_loss: 0.0627 - val_acc: 0.9810\n",
      "Epoch 18/20\n",
      "60000/60000 [==============================] - 3s - loss: 0.0166 - acc: 0.9960 - val_loss: 0.0637 - val_acc: 0.9821\n",
      "Epoch 19/20\n",
      "60000/60000 [==============================] - 3s - loss: 0.0146 - acc: 0.9968 - val_loss: 0.0645 - val_acc: 0.9810\n",
      "Epoch 20/20\n",
      "60000/60000 [==============================] - 3s - loss: 0.0126 - acc: 0.9972 - val_loss: 0.0650 - val_acc: 0.9810\n",
      "Train on 60000 samples, validate on 10000 samples\n",
      "Epoch 1/20\n",
      "60000/60000 [==============================] - 4s - loss: 0.3337 - acc: 0.9006 - val_loss: 0.2295 - val_acc: 0.9306\n",
      "Epoch 2/20\n",
      "60000/60000 [==============================] - 3s - loss: 0.1727 - acc: 0.9503 - val_loss: 0.1333 - val_acc: 0.9606\n",
      "Epoch 3/20\n",
      "60000/60000 [==============================] - 4s - loss: 0.1150 - acc: 0.9662 - val_loss: 0.1279 - val_acc: 0.9602\n",
      "Epoch 4/20\n",
      "60000/60000 [==============================] - 3s - loss: 0.0851 - acc: 0.9746 - val_loss: 0.0990 - val_acc: 0.9707\n",
      "Epoch 5/20\n",
      "60000/60000 [==============================] - 4s - loss: 0.0647 - acc: 0.9807 - val_loss: 0.0841 - val_acc: 0.9756\n",
      "Epoch 6/20\n",
      "60000/60000 [==============================] - 3s - loss: 0.0511 - acc: 0.9844 - val_loss: 0.0761 - val_acc: 0.9762\n",
      "Epoch 7/20\n",
      "60000/60000 [==============================] - 3s - loss: 0.0407 - acc: 0.9880 - val_loss: 0.0712 - val_acc: 0.9797\n",
      "Epoch 8/20\n",
      "60000/60000 [==============================] - 3s - loss: 0.0317 - acc: 0.9915 - val_loss: 0.0742 - val_acc: 0.9779\n",
      "Epoch 9/20\n",
      "60000/60000 [==============================] - 3s - loss: 0.0259 - acc: 0.9927 - val_loss: 0.0764 - val_acc: 0.9778\n",
      "Epoch 10/20\n",
      "60000/60000 [==============================] - 3s - loss: 0.0205 - acc: 0.9945 - val_loss: 0.0690 - val_acc: 0.9801\n",
      "Epoch 11/20\n",
      "60000/60000 [==============================] - 3s - loss: 0.0157 - acc: 0.9959 - val_loss: 0.0626 - val_acc: 0.9815\n",
      "Epoch 12/20\n",
      "60000/60000 [==============================] - 3s - loss: 0.0127 - acc: 0.9967 - val_loss: 0.0638 - val_acc: 0.9815\n",
      "Epoch 13/20\n",
      "60000/60000 [==============================] - 3s - loss: 0.0103 - acc: 0.9974 - val_loss: 0.0619 - val_acc: 0.9826\n",
      "Epoch 14/20\n",
      "60000/60000 [==============================] - 3s - loss: 0.0080 - acc: 0.9984 - val_loss: 0.0645 - val_acc: 0.9819\n",
      "Epoch 15/20\n",
      "60000/60000 [==============================] - 3s - loss: 0.0061 - acc: 0.9987 - val_loss: 0.0662 - val_acc: 0.9816\n",
      "Epoch 16/20\n",
      "60000/60000 [==============================] - 3s - loss: 0.0049 - acc: 0.9990 - val_loss: 0.0702 - val_acc: 0.9813\n",
      "Epoch 17/20\n",
      "60000/60000 [==============================] - 3s - loss: 0.0037 - acc: 0.9992 - val_loss: 0.0712 - val_acc: 0.9806\n",
      "Epoch 18/20\n",
      "60000/60000 [==============================] - 3s - loss: 0.0032 - acc: 0.9993 - val_loss: 0.0702 - val_acc: 0.9829\n",
      "Epoch 19/20\n",
      "60000/60000 [==============================] - 3s - loss: 0.0022 - acc: 0.9996 - val_loss: 0.0693 - val_acc: 0.9839\n",
      "Epoch 20/20\n",
      "60000/60000 [==============================] - 3s - loss: 0.0017 - acc: 0.9997 - val_loss: 0.0771 - val_acc: 0.9803\n",
      "Train on 60000 samples, validate on 10000 samples\n",
      "Epoch 1/20\n",
      "60000/60000 [==============================] - 4s - loss: 0.2550 - acc: 0.9256 - val_loss: 0.1258 - val_acc: 0.9637\n",
      "Epoch 2/20\n",
      "60000/60000 [==============================] - 3s - loss: 0.1038 - acc: 0.9690 - val_loss: 0.0898 - val_acc: 0.9727\n",
      "Epoch 3/20\n"
     ]
    },
    {
     "name": "stdout",
     "output_type": "stream",
     "text": [
      "60000/60000 [==============================] - 3s - loss: 0.0681 - acc: 0.9792 - val_loss: 0.0836 - val_acc: 0.9727\n",
      "Epoch 4/20\n",
      "60000/60000 [==============================] - 3s - loss: 0.0496 - acc: 0.9853 - val_loss: 0.0628 - val_acc: 0.9795\n",
      "Epoch 5/20\n",
      "60000/60000 [==============================] - 3s - loss: 0.0360 - acc: 0.9892 - val_loss: 0.0667 - val_acc: 0.9796\n",
      "Epoch 6/20\n",
      "60000/60000 [==============================] - 3s - loss: 0.0288 - acc: 0.9910 - val_loss: 0.0679 - val_acc: 0.9795\n",
      "Epoch 7/20\n",
      "60000/60000 [==============================] - 3s - loss: 0.0218 - acc: 0.9937 - val_loss: 0.0638 - val_acc: 0.9810\n",
      "Epoch 8/20\n",
      "60000/60000 [==============================] - 3s - loss: 0.0169 - acc: 0.9949 - val_loss: 0.0698 - val_acc: 0.9805\n",
      "Epoch 9/20\n",
      "60000/60000 [==============================] - 3s - loss: 0.0131 - acc: 0.9962 - val_loss: 0.0650 - val_acc: 0.9838\n",
      "Epoch 10/20\n",
      "60000/60000 [==============================] - 3s - loss: 0.0099 - acc: 0.9972 - val_loss: 0.0700 - val_acc: 0.9809\n",
      "Epoch 11/20\n",
      "60000/60000 [==============================] - 3s - loss: 0.0079 - acc: 0.9980 - val_loss: 0.0725 - val_acc: 0.9819\n",
      "Epoch 12/20\n",
      "60000/60000 [==============================] - 3s - loss: 0.0062 - acc: 0.9984 - val_loss: 0.0722 - val_acc: 0.9825\n",
      "Epoch 13/20\n",
      "60000/60000 [==============================] - 3s - loss: 0.0048 - acc: 0.9986 - val_loss: 0.0768 - val_acc: 0.9825\n",
      "Epoch 14/20\n",
      "60000/60000 [==============================] - 3s - loss: 0.0039 - acc: 0.9990 - val_loss: 0.0766 - val_acc: 0.9830\n",
      "Epoch 15/20\n",
      "60000/60000 [==============================] - 3s - loss: 0.0030 - acc: 0.9993 - val_loss: 0.0812 - val_acc: 0.9825\n",
      "Epoch 16/20\n",
      "60000/60000 [==============================] - 3s - loss: 0.0025 - acc: 0.9994 - val_loss: 0.0884 - val_acc: 0.9817\n",
      "Epoch 17/20\n",
      "60000/60000 [==============================] - 3s - loss: 0.0021 - acc: 0.9995 - val_loss: 0.0850 - val_acc: 0.9815\n",
      "Epoch 18/20\n",
      "60000/60000 [==============================] - 3s - loss: 0.0018 - acc: 0.9996 - val_loss: 0.0914 - val_acc: 0.9824\n",
      "Epoch 19/20\n",
      "60000/60000 [==============================] - 3s - loss: 0.0015 - acc: 0.9996 - val_loss: 0.0856 - val_acc: 0.9827\n",
      "Epoch 20/20\n",
      "60000/60000 [==============================] - 3s - loss: 0.0012 - acc: 0.9998 - val_loss: 0.0859 - val_acc: 0.9832\n"
     ]
    },
    {
     "data": {
      "text/plain": [
       "<matplotlib.legend.Legend at 0x13af58950>"
      ]
     },
     "execution_count": 45,
     "metadata": {},
     "output_type": "execute_result"
    },
    {
     "data": {
      "image/png": "[encoded data removed]",
      "text/plain": [
       "<matplotlib.figure.Figure at 0x13b810e50>"
      ]
     },
     "metadata": {},
     "output_type": "display_data"
    }
   ],
   "source": [
    "epochs = 20\n",
    "\n",
    "for activation in [None, 'sigmoid', 'tanh', 'relu']:\n",
    "    model = Sequential()\n",
    "    model.add(Dense(512, activation=activation, input_shape=(784,)))\n",
    "    model.add(Dense(10, activation='softmax'))\n",
    "    model.compile(loss='categorical_crossentropy',\n",
    "              optimizer=RMSprop(),\n",
    "              metrics=['accuracy'])\n",
    "    history = model.fit(x_train, y_train,\n",
    "                    batch_size=batch_size,\n",
    "                    epochs=epochs,\n",
    "                    verbose=1,\n",
    "                    validation_data=(x_test, y_test))\n",
    "    \n",
    "    plt.plot(history.history['val_acc'])\n",
    "    \n",
    "plt.title('model loss')\n",
    "plt.ylabel('loss')\n",
    "plt.xlabel('epoch')\n",
    "plt.legend(['None', 'sigmoid', 'tanh', 'relu'], loc='upper left')"
   ]
  },
  {
   "cell_type": "code",
   "execution_count": null,
   "metadata": {
    "collapsed": true
   },
   "outputs": [],
   "source": []
  }
 ],
 "metadata": {
  "kernelspec": {
   "display_name": "Python (hiredscore)",
   "language": "python",
   "name": "hiredscore"
  },
  "language_info": {
   "codemirror_mode": {
    "name": "ipython",
    "version": 2
   },
   "file_extension": ".py",
   "mimetype": "text/x-python",
   "name": "python",
   "nbconvert_exporter": "python",
   "pygments_lexer": "ipython2",
   "version": "2.7.12"
  }
 },
 "nbformat": 4,
 "nbformat_minor": 2
}
